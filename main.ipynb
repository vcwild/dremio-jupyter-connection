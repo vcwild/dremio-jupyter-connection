{
 "metadata": {
  "language_info": {
   "codemirror_mode": {
    "name": "ipython",
    "version": 3
   },
   "file_extension": ".py",
   "mimetype": "text/x-python",
   "name": "python",
   "nbconvert_exporter": "python",
   "pygments_lexer": "ipython3",
   "version": "3.7.6-final"
  },
  "orig_nbformat": 2,
  "kernelspec": {
   "name": "python3",
   "display_name": "Python 3"
  }
 },
 "nbformat": 4,
 "nbformat_minor": 2,
 "cells": [
  {
   "cell_type": "code",
   "execution_count": 1,
   "metadata": {},
   "outputs": [],
   "source": [
    "import pandas as pd \n",
    "import pyodbc\n",
    "import credentials # separate file with user credentials"
   ]
  },
  {
   "cell_type": "code",
   "execution_count": 2,
   "metadata": {},
   "outputs": [],
   "source": [
    "host = 'localhost'\n",
    "port = 31010\n",
    "uid = credentials.user\n",
    "pwd = credentials.password\n",
    "driver = '/opt/dremio-odbc/lib64/libdrillodbc_sb64.so'\n",
    "cnxn = pyodbc.connect(\"Driver={};ConnectionType=Direct;HOST={};PORT={};AuthenticationType=Plain;UID={};PWD={};\".format(driver, host, port, uid, pwd), autocommit=True)"
   ]
  },
  {
   "cell_type": "code",
   "execution_count": 3,
   "metadata": {},
   "outputs": [],
   "source": [
    "sql = 'SELECT * from \"test\".\"weather\" Limit 10'\n",
    "df = pd.read_sql(sql, cnxn)"
   ]
  },
  {
   "cell_type": "code",
   "execution_count": 4,
   "metadata": {},
   "outputs": [
    {
     "output_type": "execute_result",
     "data": {
      "text/plain": [
       "       STATION                           NAME LATITUDE  LONGITUDE ELEVATION  \\\n",
       "0  USW00023272  SAN FRANCISCO DOWNTOWN, CA US  37.7705  -122.4269      45.7   \n",
       "1  USW00023272  SAN FRANCISCO DOWNTOWN, CA US  37.7705  -122.4269      45.7   \n",
       "2  USW00023272  SAN FRANCISCO DOWNTOWN, CA US  37.7705  -122.4269      45.7   \n",
       "3  USW00023272  SAN FRANCISCO DOWNTOWN, CA US  37.7705  -122.4269      45.7   \n",
       "4  USW00023272  SAN FRANCISCO DOWNTOWN, CA US  37.7705  -122.4269      45.7   \n",
       "\n",
       "         DATE  PRCP SNOW SNWD TAVG TMAX TMIN  \n",
       "0  2018-01-01  0.00                  61   48  \n",
       "1  2018-01-02  0.00                  61   52  \n",
       "2  2018-01-03  0.09                  58   53  \n",
       "3  2018-01-04  0.06                  63   53  \n",
       "4  2018-01-05  0.26                  61   52  "
      ],
      "text/html": "<div>\n<style scoped>\n    .dataframe tbody tr th:only-of-type {\n        vertical-align: middle;\n    }\n\n    .dataframe tbody tr th {\n        vertical-align: top;\n    }\n\n    .dataframe thead th {\n        text-align: right;\n    }\n</style>\n<table border=\"1\" class=\"dataframe\">\n  <thead>\n    <tr style=\"text-align: right;\">\n      <th></th>\n      <th>STATION</th>\n      <th>NAME</th>\n      <th>LATITUDE</th>\n      <th>LONGITUDE</th>\n      <th>ELEVATION</th>\n      <th>DATE</th>\n      <th>PRCP</th>\n      <th>SNOW</th>\n      <th>SNWD</th>\n      <th>TAVG</th>\n      <th>TMAX</th>\n      <th>TMIN</th>\n    </tr>\n  </thead>\n  <tbody>\n    <tr>\n      <th>0</th>\n      <td>USW00023272</td>\n      <td>SAN FRANCISCO DOWNTOWN, CA US</td>\n      <td>37.7705</td>\n      <td>-122.4269</td>\n      <td>45.7</td>\n      <td>2018-01-01</td>\n      <td>0.00</td>\n      <td></td>\n      <td></td>\n      <td></td>\n      <td>61</td>\n      <td>48</td>\n    </tr>\n    <tr>\n      <th>1</th>\n      <td>USW00023272</td>\n      <td>SAN FRANCISCO DOWNTOWN, CA US</td>\n      <td>37.7705</td>\n      <td>-122.4269</td>\n      <td>45.7</td>\n      <td>2018-01-02</td>\n      <td>0.00</td>\n      <td></td>\n      <td></td>\n      <td></td>\n      <td>61</td>\n      <td>52</td>\n    </tr>\n    <tr>\n      <th>2</th>\n      <td>USW00023272</td>\n      <td>SAN FRANCISCO DOWNTOWN, CA US</td>\n      <td>37.7705</td>\n      <td>-122.4269</td>\n      <td>45.7</td>\n      <td>2018-01-03</td>\n      <td>0.09</td>\n      <td></td>\n      <td></td>\n      <td></td>\n      <td>58</td>\n      <td>53</td>\n    </tr>\n    <tr>\n      <th>3</th>\n      <td>USW00023272</td>\n      <td>SAN FRANCISCO DOWNTOWN, CA US</td>\n      <td>37.7705</td>\n      <td>-122.4269</td>\n      <td>45.7</td>\n      <td>2018-01-04</td>\n      <td>0.06</td>\n      <td></td>\n      <td></td>\n      <td></td>\n      <td>63</td>\n      <td>53</td>\n    </tr>\n    <tr>\n      <th>4</th>\n      <td>USW00023272</td>\n      <td>SAN FRANCISCO DOWNTOWN, CA US</td>\n      <td>37.7705</td>\n      <td>-122.4269</td>\n      <td>45.7</td>\n      <td>2018-01-05</td>\n      <td>0.26</td>\n      <td></td>\n      <td></td>\n      <td></td>\n      <td>61</td>\n      <td>52</td>\n    </tr>\n  </tbody>\n</table>\n</div>"
     },
     "metadata": {},
     "execution_count": 4
    }
   ],
   "source": [
    "df.head()"
   ]
  },
  {
   "cell_type": "code",
   "execution_count": 5,
   "metadata": {},
   "outputs": [
    {
     "output_type": "execute_result",
     "data": {
      "text/plain": [
       "(10, 12)"
      ]
     },
     "metadata": {},
     "execution_count": 5
    }
   ],
   "source": [
    "df.shape"
   ]
  },
  {
   "cell_type": "code",
   "execution_count": 6,
   "metadata": {},
   "outputs": [],
   "source": [
    "!pip freeze > requirements.txt"
   ]
  },
  {
   "cell_type": "code",
   "execution_count": null,
   "metadata": {},
   "outputs": [],
   "source": []
  }
 ]
}